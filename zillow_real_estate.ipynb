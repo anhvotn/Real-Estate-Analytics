{
 "cells": [
  {
   "cell_type": "markdown",
   "id": "b868303a-12a7-4aab-bae6-8cf3e9a27fe8",
   "metadata": {
    "id": "b868303a-12a7-4aab-bae6-8cf3e9a27fe8"
   },
   "source": [
    "## **Table of Contents**\n",
    "\n",
    "1. Setting Up the Environment  \n",
    "2. Loading the Dataset  \n",
    "3. Exploring the Dataset  \n",
    "4. Data Cleaning  \n",
    "5. Performing Data Analysis  \n",
    "6. Visualizing the Data  \n",
    "7. Overcoming Common Challenges  \n",
    "8. Customization Options  \n",
    "9. Conclusion\n"
   ]
  },
  {
   "cell_type": "markdown",
   "id": "1a6e2d2c-bb9f-4483-9fa3-4a3b6fd354f8",
   "metadata": {
    "id": "1a6e2d2c-bb9f-4483-9fa3-4a3b6fd354f8"
   },
   "source": [
    "---"
   ]
  },
  {
   "cell_type": "markdown",
   "id": "e67a9529-0e16-41ab-b2b4-aba00762e07a",
   "metadata": {
    "id": "e67a9529-0e16-41ab-b2b4-aba00762e07a"
   },
   "source": [
    "## 1. Setting Up the Environment\n",
    "\n",
    "### **Import Libraries**\n",
    "\n",
    "Let's start by importing the necessary libraries. These libraries provide powerful functions for data manipulation and visualization."
   ]
  },
  {
   "cell_type": "code",
   "execution_count": 4,
   "id": "b55e6ca5-ffe5-44c2-a0b8-381812666e43",
   "metadata": {
    "id": "b55e6ca5-ffe5-44c2-a0b8-381812666e43"
   },
   "outputs": [],
   "source": [
    "import pandas as pd\n",
    "import matplotlib.pyplot as plt\n",
    "import seaborn as sns\n",
    "\n",
    "# Optional: Set styles for seaborn\n",
    "sns.set(style='whitegrid')\n",
    "%matplotlib inline"
   ]
  },
  {
   "cell_type": "markdown",
   "id": "7950447f-9329-4f74-8edd-1b78f85646c2",
   "metadata": {
    "id": "7950447f-9329-4f74-8edd-1b78f85646c2"
   },
   "source": [
    "---"
   ]
  },
  {
   "cell_type": "markdown",
   "id": "da3aa889-7749-4835-a038-c638c8854321",
   "metadata": {
    "id": "da3aa889-7749-4835-a038-c638c8854321"
   },
   "source": [
    "## **2. Loading the Dataset**\n",
    "\n",
    "### **Download the Dataset**\n",
    "\n",
    "If you haven't already downloaded the Iris dataset, you can read it directly from a URL."
   ]
  },
  {
   "cell_type": "code",
   "execution_count": 7,
   "id": "94575f28-4547-4ff9-bd67-c0f5497f6cfe",
   "metadata": {
    "id": "94575f28-4547-4ff9-bd67-c0f5497f6cfe"
   },
   "outputs": [],
   "source": [
    "# Load the dataset from a URL\n",
    "file_path = 'D:/00 Anh/Learning/AI-Python-for-Beginners/fraud.csv'\n",
    "fraud = pd.read_csv(file_path)"
   ]
  },
  {
   "cell_type": "markdown",
   "id": "4f6efb9b-4e9b-4a1c-a0ed-66adea4ca47b",
   "metadata": {
    "id": "4f6efb9b-4e9b-4a1c-a0ed-66adea4ca47b"
   },
   "source": [
    "### **View the Data**"
   ]
  },
  {
   "cell_type": "code",
   "execution_count": 9,
   "id": "a4534456-f321-4f5f-ae57-d24343c57a13",
   "metadata": {
    "id": "a4534456-f321-4f5f-ae57-d24343c57a13"
   },
   "outputs": [
    {
     "data": {
      "text/html": [
       "<div>\n",
       "<style scoped>\n",
       "    .dataframe tbody tr th:only-of-type {\n",
       "        vertical-align: middle;\n",
       "    }\n",
       "\n",
       "    .dataframe tbody tr th {\n",
       "        vertical-align: top;\n",
       "    }\n",
       "\n",
       "    .dataframe thead th {\n",
       "        text-align: right;\n",
       "    }\n",
       "</style>\n",
       "<table border=\"1\" class=\"dataframe\">\n",
       "  <thead>\n",
       "    <tr style=\"text-align: right;\">\n",
       "      <th></th>\n",
       "      <th>step</th>\n",
       "      <th>type</th>\n",
       "      <th>amount</th>\n",
       "      <th>nameOrig</th>\n",
       "      <th>oldbalanceOrg</th>\n",
       "      <th>newbalanceOrig</th>\n",
       "      <th>nameDest</th>\n",
       "      <th>oldbalanceDest</th>\n",
       "      <th>newbalanceDest</th>\n",
       "      <th>isFraud</th>\n",
       "      <th>isFlaggedFraud</th>\n",
       "    </tr>\n",
       "  </thead>\n",
       "  <tbody>\n",
       "    <tr>\n",
       "      <th>0</th>\n",
       "      <td>1</td>\n",
       "      <td>PAYMENT</td>\n",
       "      <td>9839.64</td>\n",
       "      <td>C1231006815</td>\n",
       "      <td>170136.00</td>\n",
       "      <td>160296.36</td>\n",
       "      <td>M1979787155</td>\n",
       "      <td>0.0</td>\n",
       "      <td>0.00</td>\n",
       "      <td>0</td>\n",
       "      <td>0</td>\n",
       "    </tr>\n",
       "    <tr>\n",
       "      <th>1</th>\n",
       "      <td>1</td>\n",
       "      <td>PAYMENT</td>\n",
       "      <td>1864.28</td>\n",
       "      <td>C1666544295</td>\n",
       "      <td>21249.00</td>\n",
       "      <td>19384.72</td>\n",
       "      <td>M2044282225</td>\n",
       "      <td>0.0</td>\n",
       "      <td>0.00</td>\n",
       "      <td>0</td>\n",
       "      <td>0</td>\n",
       "    </tr>\n",
       "    <tr>\n",
       "      <th>2</th>\n",
       "      <td>1</td>\n",
       "      <td>TRANSFER</td>\n",
       "      <td>181.00</td>\n",
       "      <td>C1305486145</td>\n",
       "      <td>181.00</td>\n",
       "      <td>0.00</td>\n",
       "      <td>C553264065</td>\n",
       "      <td>0.0</td>\n",
       "      <td>0.00</td>\n",
       "      <td>1</td>\n",
       "      <td>0</td>\n",
       "    </tr>\n",
       "    <tr>\n",
       "      <th>3</th>\n",
       "      <td>1</td>\n",
       "      <td>CASH_OUT</td>\n",
       "      <td>181.00</td>\n",
       "      <td>C840083671</td>\n",
       "      <td>181.00</td>\n",
       "      <td>0.00</td>\n",
       "      <td>C38997010</td>\n",
       "      <td>21182.0</td>\n",
       "      <td>0.00</td>\n",
       "      <td>1</td>\n",
       "      <td>0</td>\n",
       "    </tr>\n",
       "    <tr>\n",
       "      <th>4</th>\n",
       "      <td>1</td>\n",
       "      <td>PAYMENT</td>\n",
       "      <td>11668.14</td>\n",
       "      <td>C2048537720</td>\n",
       "      <td>41554.00</td>\n",
       "      <td>29885.86</td>\n",
       "      <td>M1230701703</td>\n",
       "      <td>0.0</td>\n",
       "      <td>0.00</td>\n",
       "      <td>0</td>\n",
       "      <td>0</td>\n",
       "    </tr>\n",
       "    <tr>\n",
       "      <th>5</th>\n",
       "      <td>1</td>\n",
       "      <td>PAYMENT</td>\n",
       "      <td>7817.71</td>\n",
       "      <td>C90045638</td>\n",
       "      <td>53860.00</td>\n",
       "      <td>46042.29</td>\n",
       "      <td>M573487274</td>\n",
       "      <td>0.0</td>\n",
       "      <td>0.00</td>\n",
       "      <td>0</td>\n",
       "      <td>0</td>\n",
       "    </tr>\n",
       "    <tr>\n",
       "      <th>6</th>\n",
       "      <td>1</td>\n",
       "      <td>PAYMENT</td>\n",
       "      <td>7107.77</td>\n",
       "      <td>C154988899</td>\n",
       "      <td>183195.00</td>\n",
       "      <td>176087.23</td>\n",
       "      <td>M408069119</td>\n",
       "      <td>0.0</td>\n",
       "      <td>0.00</td>\n",
       "      <td>0</td>\n",
       "      <td>0</td>\n",
       "    </tr>\n",
       "    <tr>\n",
       "      <th>7</th>\n",
       "      <td>1</td>\n",
       "      <td>PAYMENT</td>\n",
       "      <td>7861.64</td>\n",
       "      <td>C1912850431</td>\n",
       "      <td>176087.23</td>\n",
       "      <td>168225.59</td>\n",
       "      <td>M633326333</td>\n",
       "      <td>0.0</td>\n",
       "      <td>0.00</td>\n",
       "      <td>0</td>\n",
       "      <td>0</td>\n",
       "    </tr>\n",
       "    <tr>\n",
       "      <th>8</th>\n",
       "      <td>1</td>\n",
       "      <td>PAYMENT</td>\n",
       "      <td>4024.36</td>\n",
       "      <td>C1265012928</td>\n",
       "      <td>2671.00</td>\n",
       "      <td>0.00</td>\n",
       "      <td>M1176932104</td>\n",
       "      <td>0.0</td>\n",
       "      <td>0.00</td>\n",
       "      <td>0</td>\n",
       "      <td>0</td>\n",
       "    </tr>\n",
       "    <tr>\n",
       "      <th>9</th>\n",
       "      <td>1</td>\n",
       "      <td>DEBIT</td>\n",
       "      <td>5337.77</td>\n",
       "      <td>C712410124</td>\n",
       "      <td>41720.00</td>\n",
       "      <td>36382.23</td>\n",
       "      <td>C195600860</td>\n",
       "      <td>41898.0</td>\n",
       "      <td>40348.79</td>\n",
       "      <td>0</td>\n",
       "      <td>0</td>\n",
       "    </tr>\n",
       "  </tbody>\n",
       "</table>\n",
       "</div>"
      ],
      "text/plain": [
       "   step      type    amount     nameOrig  oldbalanceOrg  newbalanceOrig  \\\n",
       "0     1   PAYMENT   9839.64  C1231006815      170136.00       160296.36   \n",
       "1     1   PAYMENT   1864.28  C1666544295       21249.00        19384.72   \n",
       "2     1  TRANSFER    181.00  C1305486145         181.00            0.00   \n",
       "3     1  CASH_OUT    181.00   C840083671         181.00            0.00   \n",
       "4     1   PAYMENT  11668.14  C2048537720       41554.00        29885.86   \n",
       "5     1   PAYMENT   7817.71    C90045638       53860.00        46042.29   \n",
       "6     1   PAYMENT   7107.77   C154988899      183195.00       176087.23   \n",
       "7     1   PAYMENT   7861.64  C1912850431      176087.23       168225.59   \n",
       "8     1   PAYMENT   4024.36  C1265012928        2671.00            0.00   \n",
       "9     1     DEBIT   5337.77   C712410124       41720.00        36382.23   \n",
       "\n",
       "      nameDest  oldbalanceDest  newbalanceDest  isFraud  isFlaggedFraud  \n",
       "0  M1979787155             0.0            0.00        0               0  \n",
       "1  M2044282225             0.0            0.00        0               0  \n",
       "2   C553264065             0.0            0.00        1               0  \n",
       "3    C38997010         21182.0            0.00        1               0  \n",
       "4  M1230701703             0.0            0.00        0               0  \n",
       "5   M573487274             0.0            0.00        0               0  \n",
       "6   M408069119             0.0            0.00        0               0  \n",
       "7   M633326333             0.0            0.00        0               0  \n",
       "8  M1176932104             0.0            0.00        0               0  \n",
       "9   C195600860         41898.0        40348.79        0               0  "
      ]
     },
     "execution_count": 9,
     "metadata": {},
     "output_type": "execute_result"
    }
   ],
   "source": [
    "# Display the first 5 rows\n",
    "fraud.head(10)"
   ]
  },
  {
   "cell_type": "markdown",
   "id": "236780ba-fb75-4db9-9fc5-28be39dc3622",
   "metadata": {
    "id": "236780ba-fb75-4db9-9fc5-28be39dc3622"
   },
   "source": [
    "---"
   ]
  },
  {
   "cell_type": "markdown",
   "id": "26a84446-f91b-47cf-94c7-9e80156d148a",
   "metadata": {
    "id": "26a84446-f91b-47cf-94c7-9e80156d148a"
   },
   "source": [
    "## **3\\. Exploring the Dataset**\n",
    "\n",
    "Understanding the structure and content of your data is crucial before any analysis.\n",
    "\n",
    "### **Data Structure Information**"
   ]
  },
  {
   "cell_type": "code",
   "execution_count": 12,
   "id": "fd71e4b2-861e-4035-ab14-b1b61e292ea7",
   "metadata": {
    "id": "fd71e4b2-861e-4035-ab14-b1b61e292ea7"
   },
   "outputs": [
    {
     "name": "stdout",
     "output_type": "stream",
     "text": [
      "<class 'pandas.core.frame.DataFrame'>\n",
      "RangeIndex: 6362620 entries, 0 to 6362619\n",
      "Data columns (total 11 columns):\n",
      " #   Column          Dtype  \n",
      "---  ------          -----  \n",
      " 0   step            int64  \n",
      " 1   type            object \n",
      " 2   amount          float64\n",
      " 3   nameOrig        object \n",
      " 4   oldbalanceOrg   float64\n",
      " 5   newbalanceOrig  float64\n",
      " 6   nameDest        object \n",
      " 7   oldbalanceDest  float64\n",
      " 8   newbalanceDest  float64\n",
      " 9   isFraud         int64  \n",
      " 10  isFlaggedFraud  int64  \n",
      "dtypes: float64(5), int64(3), object(3)\n",
      "memory usage: 534.0+ MB\n"
     ]
    }
   ],
   "source": [
    "# Get information about the dataset\n",
    "fraud.info()"
   ]
  },
  {
   "cell_type": "markdown",
   "id": "82d3e7e1-ec9a-4b8e-b161-1431af5cebf4",
   "metadata": {
    "id": "82d3e7e1-ec9a-4b8e-b161-1431af5cebf4"
   },
   "source": [
    "### **Check for Missing Values**"
   ]
  },
  {
   "cell_type": "code",
   "execution_count": 14,
   "id": "adef3346-939c-4b49-9771-9ab8be31103b",
   "metadata": {
    "id": "adef3346-939c-4b49-9771-9ab8be31103b"
   },
   "outputs": [
    {
     "data": {
      "text/plain": [
       "step              0\n",
       "type              0\n",
       "amount            0\n",
       "nameOrig          0\n",
       "oldbalanceOrg     0\n",
       "newbalanceOrig    0\n",
       "nameDest          0\n",
       "oldbalanceDest    0\n",
       "newbalanceDest    0\n",
       "isFraud           0\n",
       "isFlaggedFraud    0\n",
       "dtype: int64"
      ]
     },
     "execution_count": 14,
     "metadata": {},
     "output_type": "execute_result"
    }
   ],
   "source": [
    "# Check for null values\n",
    "fraud.isnull().sum()"
   ]
  },
  {
   "cell_type": "code",
   "execution_count": 15,
   "id": "49732794-7c3b-49e8-b70b-ff73652ef829",
   "metadata": {},
   "outputs": [
    {
     "data": {
      "text/plain": [
       "8213"
      ]
     },
     "execution_count": 15,
     "metadata": {},
     "output_type": "execute_result"
    }
   ],
   "source": [
    "# Count number of fraud cases\n",
    "fraud['isFraud'].sum()"
   ]
  },
  {
   "cell_type": "markdown",
   "id": "ac8029fd-8e1f-4860-9f60-01872e9f4718",
   "metadata": {
    "id": "ac8029fd-8e1f-4860-9f60-01872e9f4718"
   },
   "source": [
    "### **Statistical Summary**"
   ]
  },
  {
   "cell_type": "code",
   "execution_count": 17,
   "id": "73802350-0bf7-49e3-8010-464d3e236931",
   "metadata": {
    "id": "73802350-0bf7-49e3-8010-464d3e236931"
   },
   "outputs": [
    {
     "data": {
      "text/html": [
       "<div>\n",
       "<style scoped>\n",
       "    .dataframe tbody tr th:only-of-type {\n",
       "        vertical-align: middle;\n",
       "    }\n",
       "\n",
       "    .dataframe tbody tr th {\n",
       "        vertical-align: top;\n",
       "    }\n",
       "\n",
       "    .dataframe thead th {\n",
       "        text-align: right;\n",
       "    }\n",
       "</style>\n",
       "<table border=\"1\" class=\"dataframe\">\n",
       "  <thead>\n",
       "    <tr style=\"text-align: right;\">\n",
       "      <th></th>\n",
       "      <th>step</th>\n",
       "      <th>amount</th>\n",
       "      <th>oldbalanceOrg</th>\n",
       "      <th>newbalanceOrig</th>\n",
       "      <th>oldbalanceDest</th>\n",
       "      <th>newbalanceDest</th>\n",
       "      <th>isFraud</th>\n",
       "      <th>isFlaggedFraud</th>\n",
       "    </tr>\n",
       "  </thead>\n",
       "  <tbody>\n",
       "    <tr>\n",
       "      <th>count</th>\n",
       "      <td>6.362620e+06</td>\n",
       "      <td>6.362620e+06</td>\n",
       "      <td>6.362620e+06</td>\n",
       "      <td>6.362620e+06</td>\n",
       "      <td>6.362620e+06</td>\n",
       "      <td>6.362620e+06</td>\n",
       "      <td>6.362620e+06</td>\n",
       "      <td>6.362620e+06</td>\n",
       "    </tr>\n",
       "    <tr>\n",
       "      <th>mean</th>\n",
       "      <td>2.433972e+02</td>\n",
       "      <td>1.798619e+05</td>\n",
       "      <td>8.338831e+05</td>\n",
       "      <td>8.551137e+05</td>\n",
       "      <td>1.100702e+06</td>\n",
       "      <td>1.224996e+06</td>\n",
       "      <td>1.290820e-03</td>\n",
       "      <td>2.514687e-06</td>\n",
       "    </tr>\n",
       "    <tr>\n",
       "      <th>std</th>\n",
       "      <td>1.423320e+02</td>\n",
       "      <td>6.038582e+05</td>\n",
       "      <td>2.888243e+06</td>\n",
       "      <td>2.924049e+06</td>\n",
       "      <td>3.399180e+06</td>\n",
       "      <td>3.674129e+06</td>\n",
       "      <td>3.590480e-02</td>\n",
       "      <td>1.585775e-03</td>\n",
       "    </tr>\n",
       "    <tr>\n",
       "      <th>min</th>\n",
       "      <td>1.000000e+00</td>\n",
       "      <td>0.000000e+00</td>\n",
       "      <td>0.000000e+00</td>\n",
       "      <td>0.000000e+00</td>\n",
       "      <td>0.000000e+00</td>\n",
       "      <td>0.000000e+00</td>\n",
       "      <td>0.000000e+00</td>\n",
       "      <td>0.000000e+00</td>\n",
       "    </tr>\n",
       "    <tr>\n",
       "      <th>25%</th>\n",
       "      <td>1.560000e+02</td>\n",
       "      <td>1.338957e+04</td>\n",
       "      <td>0.000000e+00</td>\n",
       "      <td>0.000000e+00</td>\n",
       "      <td>0.000000e+00</td>\n",
       "      <td>0.000000e+00</td>\n",
       "      <td>0.000000e+00</td>\n",
       "      <td>0.000000e+00</td>\n",
       "    </tr>\n",
       "    <tr>\n",
       "      <th>50%</th>\n",
       "      <td>2.390000e+02</td>\n",
       "      <td>7.487194e+04</td>\n",
       "      <td>1.420800e+04</td>\n",
       "      <td>0.000000e+00</td>\n",
       "      <td>1.327057e+05</td>\n",
       "      <td>2.146614e+05</td>\n",
       "      <td>0.000000e+00</td>\n",
       "      <td>0.000000e+00</td>\n",
       "    </tr>\n",
       "    <tr>\n",
       "      <th>75%</th>\n",
       "      <td>3.350000e+02</td>\n",
       "      <td>2.087215e+05</td>\n",
       "      <td>1.073152e+05</td>\n",
       "      <td>1.442584e+05</td>\n",
       "      <td>9.430367e+05</td>\n",
       "      <td>1.111909e+06</td>\n",
       "      <td>0.000000e+00</td>\n",
       "      <td>0.000000e+00</td>\n",
       "    </tr>\n",
       "    <tr>\n",
       "      <th>max</th>\n",
       "      <td>7.430000e+02</td>\n",
       "      <td>9.244552e+07</td>\n",
       "      <td>5.958504e+07</td>\n",
       "      <td>4.958504e+07</td>\n",
       "      <td>3.560159e+08</td>\n",
       "      <td>3.561793e+08</td>\n",
       "      <td>1.000000e+00</td>\n",
       "      <td>1.000000e+00</td>\n",
       "    </tr>\n",
       "  </tbody>\n",
       "</table>\n",
       "</div>"
      ],
      "text/plain": [
       "               step        amount  oldbalanceOrg  newbalanceOrig  \\\n",
       "count  6.362620e+06  6.362620e+06   6.362620e+06    6.362620e+06   \n",
       "mean   2.433972e+02  1.798619e+05   8.338831e+05    8.551137e+05   \n",
       "std    1.423320e+02  6.038582e+05   2.888243e+06    2.924049e+06   \n",
       "min    1.000000e+00  0.000000e+00   0.000000e+00    0.000000e+00   \n",
       "25%    1.560000e+02  1.338957e+04   0.000000e+00    0.000000e+00   \n",
       "50%    2.390000e+02  7.487194e+04   1.420800e+04    0.000000e+00   \n",
       "75%    3.350000e+02  2.087215e+05   1.073152e+05    1.442584e+05   \n",
       "max    7.430000e+02  9.244552e+07   5.958504e+07    4.958504e+07   \n",
       "\n",
       "       oldbalanceDest  newbalanceDest       isFraud  isFlaggedFraud  \n",
       "count    6.362620e+06    6.362620e+06  6.362620e+06    6.362620e+06  \n",
       "mean     1.100702e+06    1.224996e+06  1.290820e-03    2.514687e-06  \n",
       "std      3.399180e+06    3.674129e+06  3.590480e-02    1.585775e-03  \n",
       "min      0.000000e+00    0.000000e+00  0.000000e+00    0.000000e+00  \n",
       "25%      0.000000e+00    0.000000e+00  0.000000e+00    0.000000e+00  \n",
       "50%      1.327057e+05    2.146614e+05  0.000000e+00    0.000000e+00  \n",
       "75%      9.430367e+05    1.111909e+06  0.000000e+00    0.000000e+00  \n",
       "max      3.560159e+08    3.561793e+08  1.000000e+00    1.000000e+00  "
      ]
     },
     "execution_count": 17,
     "metadata": {},
     "output_type": "execute_result"
    }
   ],
   "source": [
    "# Get statistical summary\n",
    "fraud.describe()"
   ]
  },
  {
   "cell_type": "markdown",
   "id": "79cfd81f-ea59-449b-90a5-27ce76738c5c",
   "metadata": {
    "id": "79cfd81f-ea59-449b-90a5-27ce76738c5c"
   },
   "source": [
    "## **4\\. Data Cleaning**\n",
    "\n",
    "### **Handle Missing Values**\n"
   ]
  },
  {
   "cell_type": "code",
   "execution_count": 19,
   "id": "48d40164-a12d-472e-ac89-17b9f44f28c0",
   "metadata": {
    "id": "48d40164-a12d-472e-ac89-17b9f44f28c0"
   },
   "outputs": [],
   "source": [
    "# Drop rows with missing values (if any)\n",
    "fraud.dropna(inplace=True)"
   ]
  },
  {
   "cell_type": "markdown",
   "id": "31d79f10-ecac-4016-9a55-180ae311c4b2",
   "metadata": {
    "id": "31d79f10-ecac-4016-9a55-180ae311c4b2"
   },
   "source": [
    "### **Data Types Verification**\n",
    "\n",
    "Ensure that all data types are appropriate for analysis."
   ]
  },
  {
   "cell_type": "code",
   "execution_count": 14,
   "id": "80c0daca-70a9-47cd-b582-bb18a6a631a0",
   "metadata": {
    "id": "80c0daca-70a9-47cd-b582-bb18a6a631a0"
   },
   "outputs": [
    {
     "data": {
      "text/plain": [
       "step                int64\n",
       "type               object\n",
       "amount            float64\n",
       "nameOrig           object\n",
       "oldbalanceOrg     float64\n",
       "newbalanceOrig    float64\n",
       "nameDest           object\n",
       "oldbalanceDest    float64\n",
       "newbalanceDest    float64\n",
       "isFraud             int64\n",
       "isFlaggedFraud      int64\n",
       "dtype: object"
      ]
     },
     "execution_count": 14,
     "metadata": {},
     "output_type": "execute_result"
    }
   ],
   "source": [
    "# Verify data types\n",
    "fraud.dtypes"
   ]
  },
  {
   "cell_type": "code",
   "execution_count": 29,
   "id": "291408e8-42ac-4a29-9d4d-4b972db5104e",
   "metadata": {},
   "outputs": [],
   "source": [
    "fraud['step'] = fraud['step'].astype(str)"
   ]
  },
  {
   "cell_type": "markdown",
   "id": "2117cc64-5ac5-4e86-abe9-84cd8b53f515",
   "metadata": {
    "id": "2117cc64-5ac5-4e86-abe9-84cd8b53f515"
   },
   "source": [
    "## **5\\. Performing Data Analysis**\n",
    "\n",
    "Now, let's explore analyzing the data to extract meaningful insights.\n",
    "\n",
    "### **Analyzing Variable Distributions**\n",
    "\n",
    "#### **Distribution of Amount**"
   ]
  },
  {
   "cell_type": "code",
   "execution_count": 21,
   "id": "0be63f80-1824-4da3-bd97-962c24d7df46",
   "metadata": {
    "id": "0be63f80-1824-4da3-bd97-962c24d7df46"
   },
   "outputs": [
    {
     "data": {
      "image/png": "[encoded data removed]",
      "text/plain": [
       "<Figure size 640x480 with 1 Axes>"
      ]
     },
     "metadata": {},
     "output_type": "display_data"
    }
   ],
   "source": [
    "# Distribution of sepal length\n",
    "plt.hist(fraud['amount'], bins=20, color='skyblue', edgecolor='black')\n",
    "plt.title('Distribution of Amount')\n",
    "plt.xlabel('Amount')\n",
    "# plt.ylabel('Frequency')\n",
    "plt.show()"
   ]
  },
  {
   "cell_type": "markdown",
   "id": "63469fdb-3a70-4bac-a67b-7b7fc05d3bab",
   "metadata": {
    "id": "63469fdb-3a70-4bac-a67b-7b7fc05d3bab"
   },
   "source": [
    "### **Analyzing Relationships Between Variables**\n",
    "\n",
    "#### **Sepal Length vs. Petal Length**"
   ]
  },
  {
   "cell_type": "code",
   "execution_count": null,
   "id": "352708d0-1d8c-4989-b7d9-8ffde3330c22",
   "metadata": {
    "id": "352708d0-1d8c-4989-b7d9-8ffde3330c22"
   },
   "outputs": [],
   "source": [
    "# Scatter plot of sepal length vs. petal length\n",
    "plt.scatter(df['sepal_length'], df['petal_length'], c='purple')\n",
    "plt.title('Sepal Length vs. Petal Length')\n",
    "plt.xlabel('Sepal Length (cm)')\n",
    "plt.ylabel('Petal Length (cm)')\n",
    "plt.show()"
   ]
  },
  {
   "cell_type": "markdown",
   "id": "b129e04a-6ecf-4ba5-a5f2-44a2d1c5520c",
   "metadata": {
    "id": "b129e04a-6ecf-4ba5-a5f2-44a2d1c5520c"
   },
   "source": [
    "*Observation*: Do you see a correlation between sepal length and petal length from this representation? Ask the [course assistant](https://learn.deeplearning.ai/courses/ai-python-for-beginners-c3/lesson/2/using-files-in-python) to explore more!"
   ]
  },
  {
   "cell_type": "markdown",
   "id": "5e65f8f6-bf56-48f2-b8fc-4fc1f863b2fb",
   "metadata": {
    "id": "5e65f8f6-bf56-48f2-b8fc-4fc1f863b2fb"
   },
   "source": [
    "### **Grouping and Aggregation**\n",
    "\n",
    "#### **Mean Measurements by Species**"
   ]
  },
  {
   "cell_type": "code",
   "execution_count": null,
   "id": "94db6b82-d509-4214-9cca-0e4ad9e0d0be",
   "metadata": {
    "id": "94db6b82-d509-4214-9cca-0e4ad9e0d0be",
    "tags": []
   },
   "outputs": [],
   "source": [
    "# Mean measurements by species\n",
    "df.groupby('species').mean()"
   ]
  },
  {
   "cell_type": "markdown",
   "id": "3a4e7b9c-7d34-4b44-9dd7-83c54bbf7640",
   "metadata": {
    "id": "3a4e7b9c-7d34-4b44-9dd7-83c54bbf7640"
   },
   "source": [
    "* This reveals differences in measurements between species."
   ]
  },
  {
   "cell_type": "markdown",
   "id": "1a88ad03-7292-4772-8e48-ddf59db20c50",
   "metadata": {
    "id": "1a88ad03-7292-4772-8e48-ddf59db20c50"
   },
   "source": [
    "---"
   ]
  },
  {
   "cell_type": "markdown",
   "id": "13ab0cf4-322f-4378-ae7a-cbe9f73fdf4c",
   "metadata": {
    "id": "13ab0cf4-322f-4378-ae7a-cbe9f73fdf4c"
   },
   "source": [
    "## **6\\. Visualizing the Data**\n",
    "\n",
    "Visualization aids in understanding complex data patterns.\n",
    "\n",
    "### **Bar Plots**\n",
    "\n",
    "#### **Average Sepal Length per Species**"
   ]
  },
  {
   "cell_type": "code",
   "execution_count": null,
   "id": "4922dfd0-decb-4460-bd6f-5fd067214225",
   "metadata": {
    "id": "4922dfd0-decb-4460-bd6f-5fd067214225"
   },
   "outputs": [],
   "source": [
    "# Average sepal length per species\n",
    "df.groupby('species')['sepal_length'].mean().plot(kind='bar', color=['red', 'green', 'blue'])\n",
    "plt.title('Average Sepal Length per Species')\n",
    "plt.xlabel('Species')\n",
    "plt.ylabel('Sepal Length (cm)')\n",
    "plt.show()"
   ]
  },
  {
   "cell_type": "markdown",
   "id": "b88ca3d3-15fb-491a-9b54-6ecae4a3fdb8",
   "metadata": {
    "id": "b88ca3d3-15fb-491a-9b54-6ecae4a3fdb8",
    "tags": []
   },
   "source": [
    "### **Box Plots**\n",
    "\n",
    "#### **Petal Length Distribution by Species**\n",
    "Now, let's create a box plot to visualize the distribution of petal lengths across different species."
   ]
  },
  {
   "cell_type": "code",
   "execution_count": null,
   "id": "f6176feb-e1b8-46fb-bfc1-5d9b6075a1a4",
   "metadata": {
    "id": "f6176feb-e1b8-46fb-bfc1-5d9b6075a1a4",
    "scrolled": true
   },
   "outputs": [],
   "source": [
    "# Box plot for petal length by species\n",
    "sns.boxplot(x='species', y='petal_length', data=df, palette='pastel')\n",
    "plt.title('Petal Length Distribution by Species')\n",
    "plt.xlabel('Species')\n",
    "plt.ylabel('Petal Length (cm)')\n",
    "plt.show()"
   ]
  },
  {
   "cell_type": "markdown",
   "id": "016fc9c0-c657-4c3f-ac9b-4a5ee8fc6545",
   "metadata": {
    "id": "016fc9c0-c657-4c3f-ac9b-4a5ee8fc6545"
   },
   "source": [
    "*Insight*: Box plots are great for visualizing spread and identifying outliers."
   ]
  },
  {
   "cell_type": "markdown",
   "id": "a7008ba7-891d-43bf-8720-06ae0c519a3a",
   "metadata": {
    "id": "a7008ba7-891d-43bf-8720-06ae0c519a3a"
   },
   "source": [
    "### **Pair Plots**\n",
    "\n",
    "Pair plots show relationships between all pairs of variables. This is particularly useful for multi-dimensional datasets like ours.\n",
    "\n",
    "In this section, we'll create a pair plot of our Iris dataset. You might see some warnings when running this code, but don't worry - they're related to some internal Seaborn functions and don't affect our results.\n",
    "\n",
    "Here's what our code will do:\n",
    "1. Temporarily suppress warnings to keep our output clean.\n",
    "2. Create a pair plot with different colors for each species.\n",
    "3. Display the plot.\n",
    "4. Reset the warnings to their default behavior.\n",
    "\n",
    "Let's run the code and see what insights we can gain from this visualization!"
   ]
  },
  {
   "cell_type": "code",
   "execution_count": null,
   "id": "3d939ad7-f05e-4ae1-9e32-fa4f7050c3b8",
   "metadata": {
    "id": "3d939ad7-f05e-4ae1-9e32-fa4f7050c3b8"
   },
   "outputs": [],
   "source": [
    "import warnings\n",
    "warnings.filterwarnings(\"ignore\", category=FutureWarning)\n",
    "\n",
    "# Pair plot of all variables colored by species\n",
    "sns.pairplot(df, hue='species')\n",
    "plt.show()\n",
    "\n",
    "# Reset warnings to default behavior\n",
    "warnings.resetwarnings()"
   ]
  },
  {
   "cell_type": "markdown",
   "id": "4ecc69de-31e8-477b-8163-d0cb6c05b8bd",
   "metadata": {
    "id": "4ecc69de-31e8-477b-8163-d0cb6c05b8bd"
   },
   "source": [
    "*Pro Tip*: Pair plots provide a matrix of scatter plots, helping you see relationships between all pairs of variables."
   ]
  },
  {
   "cell_type": "markdown",
   "id": "ca468b45-18ea-40d2-be14-218356f15eee",
   "metadata": {
    "id": "ca468b45-18ea-40d2-be14-218356f15eee"
   },
   "source": [
    "### Heatmaps\n",
    "\n",
    "Finally, let's create a heatmap to visualize the correlation between different features.\n",
    "\n",
    "**Explanation:**\n",
    "- `df.select_dtypes(include='number')`: This function filters the original dataframe `df` to include only the numeric columns. Columns that contain non-numeric data, such as categorical variables like `species`, are automatically excluded. This ensures that the correlation matrix only includes variables that can be meaningfully compared numerically.\n",
    "  \n",
    "- `numeric_df.corr()`: This function calculates the correlation matrix of the numeric features. The correlation matrix shows how strongly different variables are related to each other. The values range from -1 to 1, where:\n",
    "  - `1` indicates a perfect positive correlation (as one feature increases, the other increases proportionally),\n",
    "  - `-1` indicates a perfect negative correlation (as one feature increases, the other decreases),\n",
    "  - `0` means no correlation.\n",
    "  \n",
    "- The heatmap provides a visual representation of these correlations, using colors to indicate the strength of the relationships. Warmer colors (red) indicate stronger positive correlations, while cooler colors (blue) show stronger negative correlations.\n",
    "\n",
    "This method makes it easier to spot patterns and relationships between variables at a glance."
   ]
  },
  {
   "cell_type": "code",
   "execution_count": null,
   "id": "3ce70e43-d32b-442c-8b3a-04684e2990ae",
   "metadata": {
    "id": "3ce70e43-d32b-442c-8b3a-04684e2990ae"
   },
   "outputs": [],
   "source": [
    "# Select only numeric columns from the dataframe\n",
    "numeric_df = df.select_dtypes(include='number')\n",
    "\n",
    "# Compute correlation matrix\n",
    "corr = numeric_df.corr()\n",
    "\n",
    "# Create heatmap\n",
    "plt.figure(figsize=(10, 8))\n",
    "sns.heatmap(corr, annot=True, cmap='coolwarm')\n",
    "plt.title('Correlation Matrix of Numeric Features')\n",
    "plt.show()"
   ]
  },
  {
   "cell_type": "markdown",
   "id": "a7befe9b-8321-43cf-beb2-6cd3d4cc6f9b",
   "metadata": {
    "id": "a7befe9b-8321-43cf-beb2-6cd3d4cc6f9b"
   },
   "source": [
    "---"
   ]
  },
  {
   "cell_type": "markdown",
   "id": "f4fceb39-8f7b-4294-ad66-98a83ed15dc1",
   "metadata": {
    "id": "f4fceb39-8f7b-4294-ad66-98a83ed15dc1"
   },
   "source": [
    "## 7. Challenge: Mismatched Column Names\n",
    "\n",
    "**Scenario**: If you downloaded the dataset from another source (like [Kaggle](https://www.kaggle.com/datasets/vikrishnan/iris-dataset)), the column names might differ (e.g., 'sepallength' instead of 'sepal_length'). This can cause issues when following the tutorial.\n",
    "\n",
    "### Solution: Renaming Columns\n",
    "\n",
    "You can rename the columns to match the expected names using the `rename` function in pandas. Make sure you specify the correct mappings for the column names to ensure the rest of the tutorial works seamlessly."
   ]
  },
  {
   "cell_type": "code",
   "execution_count": null,
   "id": "cec388dc-abaf-4086-a014-c5bbb0240828",
   "metadata": {
    "id": "cec388dc-abaf-4086-a014-c5bbb0240828"
   },
   "outputs": [],
   "source": [
    "# Check current column names\n",
    "print(df.columns)"
   ]
  },
  {
   "cell_type": "markdown",
   "id": "41a676fe-ba64-43dd-a5fc-b3a9b17aedb5",
   "metadata": {
    "id": "41a676fe-ba64-43dd-a5fc-b3a9b17aedb5"
   },
   "source": [
    "Suppose the columns are:"
   ]
  },
  {
   "cell_type": "code",
   "execution_count": null,
   "id": "c86ba08e-f2cc-45f9-9e44-9dde90739753",
   "metadata": {
    "id": "c86ba08e-f2cc-45f9-9e44-9dde90739753"
   },
   "outputs": [],
   "source": [
    "# Check current column names\n",
    "print(df.columns)\n",
    "\n",
    "# Rename columns to match expected format (if required)\n",
    "df.rename(columns={\n",
    "    'sepallength': 'sepal_length',\n",
    "    'sepalwidth': 'sepal_width',\n",
    "    'petallength': 'petal_length',\n",
    "    'petalwidth': 'petal_width'\n",
    "}, inplace=True)\n",
    "\n",
    "# Verify the column renaming\n",
    "print(df.columns)"
   ]
  },
  {
   "cell_type": "markdown",
   "id": "542eb269-eab6-4d75-9b94-e2856af91895",
   "metadata": {
    "id": "542eb269-eab6-4d75-9b94-e2856af91895"
   },
   "source": [
    "*Fun Fact*: You can use the `str.replace()` method for more complex renaming tasks."
   ]
  },
  {
   "cell_type": "markdown",
   "id": "c14a2717-f606-474d-86cf-899e25d8039b",
   "metadata": {
    "id": "c14a2717-f606-474d-86cf-899e25d8039b"
   },
   "source": [
    "#### **Using an LLM to Assist**\n",
    "\n",
    "You can use an AI language model (LLM) to help generate code for renaming columns. Feel free to [use the classroom chat!](https://learn.deeplearning.ai/courses/ai-python-for-beginners-c3/lesson/2/using-files-in-python)\n",
    "\n",
    "**Sample Prompt to LLM**:\n",
    "\n",
    "*\"I have a DataFrame with columns named 'sepallength', 'sepalwidth', 'petallength', 'petalwidth', and 'species'. I want to rename them to 'sepal\\_length', 'sepal\\_width', 'petal\\_length', 'petal\\_width', and 'species'. How can I do this in pandas?\"*\n",
    "\n",
    "**LLM Response**:"
   ]
  },
  {
   "cell_type": "code",
   "execution_count": null,
   "id": "a656efda-5797-4d1f-9a62-c92f675a866e",
   "metadata": {
    "id": "a656efda-5797-4d1f-9a62-c92f675a866e"
   },
   "outputs": [],
   "source": [
    "# Rename columns to include underscores\n",
    "df.rename(columns={\n",
    "    'sepallength': 'sepal_length',\n",
    "    'sepalwidth': 'sepal_width',\n",
    "    'petallength': 'petal_length',\n",
    "    'petalwidth': 'petal_width'\n",
    "}, inplace=True)\n",
    "\n",
    "# Verify the updated column names\n",
    "print(df.columns)"
   ]
  },
  {
   "cell_type": "markdown",
   "id": "ecf04afe-f11a-4297-8c69-c962c6332b82",
   "metadata": {
    "id": "ecf04afe-f11a-4297-8c69-c962c6332b82"
   },
   "source": [
    "### **Challenge: Different Data Formats**\n",
    "\n",
    "If the data types are not as expected (e.g., numerical data stored as strings), you may need to convert them.\n",
    "\n",
    "#### **Solution: Converting Data Types**"
   ]
  },
  {
   "cell_type": "code",
   "execution_count": null,
   "id": "d20a876c-fc1e-4897-bd44-acdd297a7252",
   "metadata": {
    "id": "d20a876c-fc1e-4897-bd44-acdd297a7252"
   },
   "outputs": [],
   "source": [
    "# Convert columns to numeric types\n",
    "numeric_columns = ['sepal_length', 'sepal_width', 'petal_length', 'petal_width']\n",
    "df[numeric_columns] = df[numeric_columns].apply(pd.to_numeric, errors='coerce')"
   ]
  },
  {
   "cell_type": "markdown",
   "id": "9ebba825-95ed-4a7d-96af-9453e8354049",
   "metadata": {
    "id": "9ebba825-95ed-4a7d-96af-9453e8354049"
   },
   "source": [
    "---"
   ]
  },
  {
   "cell_type": "markdown",
   "id": "a5446514-cc0d-4cf6-9328-90e8887c5355",
   "metadata": {
    "id": "a5446514-cc0d-4cf6-9328-90e8887c5355"
   },
   "source": [
    "## **8\\. Customization Options**\n",
    "\n",
    "Make this project your own\\!\n",
    "\n",
    "### **8.1 Using Your Own Dataset**\n",
    "\n",
    "Replace the Iris dataset with your own data.\n",
    "\n",
    "*Note: Running this cell will produce an error if you do not load your own data. Errors are okay! It's all part of the process!*"
   ]
  },
  {
   "cell_type": "code",
   "execution_count": null,
   "id": "61b20506-4cb7-4c28-8af8-ee27ad2bae51",
   "metadata": {
    "id": "61b20506-4cb7-4c28-8af8-ee27ad2bae51"
   },
   "outputs": [],
   "source": [
    "# Load your own dataset\n",
    "df = pd.read_csv('path_to_your_dataset.csv')\n",
    "\n",
    "# Preview the data\n",
    "df.head()"
   ]
  },
  {
   "cell_type": "markdown",
   "id": "a7fdb8a7-48a5-4aa3-b9ab-5e541094f480",
   "metadata": {
    "id": "a7fdb8a7-48a5-4aa3-b9ab-5e541094f480"
   },
   "source": [
    "*Tip*: Ensure your dataset is in a compatible format (like CSV) and that you understand its structure."
   ]
  },
  {
   "cell_type": "markdown",
   "id": "36872fa1-3341-4f28-a28c-3f316a650179",
   "metadata": {
    "id": "36872fa1-3341-4f28-a28c-3f316a650179"
   },
   "source": [
    "### **8.2 Enhancing Visualizations**\n",
    "\n",
    "#### **Customizing Plots**"
   ]
  },
  {
   "cell_type": "code",
   "execution_count": null,
   "id": "7186a7f7-fe25-4aee-b914-bd1b03440c11",
   "metadata": {
    "id": "7186a7f7-fe25-4aee-b914-bd1b03440c11"
   },
   "outputs": [],
   "source": [
    "# Suppress specific deprecation warnings\n",
    "warnings.filterwarnings(\"ignore\", category=DeprecationWarning, module=\"seaborn\")\n",
    "\n",
    "# Customized scatter plot\n",
    "plt.figure(figsize=(10, 6))\n",
    "sns.scatterplot(x='sepal_length', y='petal_length', hue='species', data=df, s=100)\n",
    "plt.title('Sepal Length vs Petal Length by Species', fontsize=16)\n",
    "plt.xlabel('Sepal Length (cm)', fontsize=12)\n",
    "plt.ylabel('Petal Length (cm)', fontsize=12)\n",
    "plt.legend(title='Species')\n",
    "plt.show()"
   ]
  },
  {
   "cell_type": "markdown",
   "id": "1ad71403-a89c-4dca-abcb-62e094e5364e",
   "metadata": {
    "id": "1ad71403-a89c-4dca-abcb-62e094e5364e"
   },
   "source": [
    "*Did You Know?*: You can change the marker style, size, and even add annotations to your plots!"
   ]
  },
  {
   "cell_type": "markdown",
   "id": "a87d070e-80f6-426a-8075-b15b80a4b4ec",
   "metadata": {
    "id": "a87d070e-80f6-426a-8075-b15b80a4b4ec"
   },
   "source": [
    "### **8.3 Incorporating AI for Advanced Analysis**\n",
    "\n",
    "Use AI models for predictive analytics, clustering, or natural language processing.\n",
    "\n",
    "#### **Example: Using LLMs for Data Insights**\n",
    "\n",
    "*Note*: **Integrating AI tools will require additional setup and API keys.**\n",
    "\n",
    "You can leverage LLMs to generate insights or summaries. If you have a developer API key from an LLM provider, try it out below!"
   ]
  },
  {
   "cell_type": "code",
   "execution_count": null,
   "id": "f47acd5c-3c8b-4bee-9e83-cf3192615eef",
   "metadata": {
    "id": "f47acd5c-3c8b-4bee-9e83-cf3192615eef"
   },
   "outputs": [],
   "source": [
    "# Suppose you have a summary statistics string\n",
    "summary = df.describe().to_string()\n",
    "\n",
    "# Use an LLM to interpret the summary\n",
    "# (Assuming you have an API or function to interact with the LLM)\n",
    "def get_insights_from_summary(summary_text):\n",
    "    # This is a placeholder function\n",
    "    # Replace with actual API call or LLM interaction\n",
    "    insights = \"LLM-generated insights based on the summary.\"\n",
    "    return insights\n",
    "\n",
    "insights = get_insights_from_summary(summary)\n",
    "print(insights)"
   ]
  },
  {
   "cell_type": "markdown",
   "id": "a853b14e-da9a-4e06-b0cb-bcfbfda207d1",
   "metadata": {
    "id": "a853b14e-da9a-4e06-b0cb-bcfbfda207d1"
   },
   "source": [
    "### **8.4 Automating Reports**\n",
    "\n",
    "Generating comprehensive reports that include both visualizations and textual analysis is a crucial skill in data analysis. Automation can save time, ensure consistency, and allow for easy updates as new data becomes available. Here's an expanded guide on how to automate your reporting process:\n",
    "\n",
    "#### Structuring Your Report\n",
    "\n",
    "Before automating, plan your report structure. A typical data analysis report might include:\n",
    "\n",
    "Executive Summary\n",
    "Introduction\n",
    "Data Overview\n",
    "Detailed Analysis (with visualizations)\n",
    "Insights and Findings\n",
    "Conclusions and Recommendations\n",
    "\n",
    "\n",
    "#### Generating Visualizations\n",
    "\n",
    "Use matplotlib and seaborn to create your visualizations programmatically. Save each plot as an image file:"
   ]
  },
  {
   "cell_type": "code",
   "execution_count": null,
   "id": "37eb58dc-1baf-4161-b098-7a4b0ea7913d",
   "metadata": {
    "id": "37eb58dc-1baf-4161-b098-7a4b0ea7913d",
    "tags": []
   },
   "outputs": [],
   "source": [
    "def create_and_save_plot(df, x, y, hue, filename):\n",
    "    plt.figure(figsize=(10, 6))\n",
    "    sns.scatterplot(data=df, x=x, y=y, hue=hue)\n",
    "    plt.title(f'{y} vs {x} by {hue}')\n",
    "    plt.savefig(filename)\n",
    "    plt.close()\n",
    "\n",
    "create_and_save_plot(df, 'sepal_length', 'petal_length', 'species', 'sepal_vs_petal.png')"
   ]
  },
  {
   "cell_type": "markdown",
   "id": "2b6643d8-9f06-4a42-89b4-953bf1ef3b82",
   "metadata": {
    "id": "2b6643d8-9f06-4a42-89b4-953bf1ef3b82",
    "tags": []
   },
   "source": [
    "# Quick Guide: Where Are My Generated Files?\n",
    "\n",
    "When you run the report generation script, it creates two important files:\n",
    "\n",
    "1. `sepal_vs_petal.png`: A scatter plot image\n",
    "2. `report.csv`: A text file containing the report\n",
    "\n",
    "But where exactly are these files saved? Here's a quick guide to help you find them:\n",
    "\n",
    "## Default Save Location\n",
    "\n",
    "By default, the files are saved in your **current working directory**. This is usually:\n",
    "\n",
    "- The folder where your Python script is located (if you're running a .py file)\n",
    "- The folder where your Jupyter Notebook is saved (if you're using Jupyter)\n",
    "\n",
    "## How to Find Your Files\n",
    "\n",
    "1. **Look in the same folder** as your Python script or Jupyter Notebook.\n",
    "\n",
    "2. If you can't find the files there, you can get the full path of the current working directory by running this Python code:\n",
    "\n",
    "   ```python\n",
    "   import os\n",
    "   print(os.getcwd())\n",
    "   ```\n",
    "\n",
    "3. Copy the path that's printed and paste it into your file explorer. This will take you directly to the folder where the files are saved.\n",
    "\n",
    "## Tips for Different Environments\n",
    "\n",
    "- **Jupyter Notebook**: The files will typically be visible in the Jupyter file browser.\n",
    "- **IDEs** (like PyCharm or VS Code): Check the project directory or the directory you opened the IDE in.\n",
    "- **Command Line**: The files will be in the directory you were in when you ran the script.\n",
    "\n",
    "## Still Can't Find Your Files?\n",
    "\n",
    "If you're still having trouble, try:\n",
    "\n",
    "1. Searching for files named \"sepal_vs_petal.png\" and \"report.csv\" on your computer.\n",
    "2. Checking if your script has permission to write files in the current directory.\n",
    "3. Making sure the script ran successfully without any errors.\n",
    "\n",
    "Remember, understanding where your files are saved is an important part of working with data and generating reports. Don't hesitate to refer to the class chatbot for help if you're stuck!"
   ]
  },
  {
   "cell_type": "markdown",
   "id": "dd867f10-8a3b-46b5-b26c-9b1cb16af05a",
   "metadata": {
    "id": "dd867f10-8a3b-46b5-b26c-9b1cb16af05a"
   },
   "source": [
    "#### 3. Generating Textual Analysis\n",
    "\n",
    "Use Python's string formatting to create textual analysis based on your data:"
   ]
  },
  {
   "cell_type": "code",
   "execution_count": null,
   "id": "54158c3f-6381-451f-a174-d329a73ad22b",
   "metadata": {
    "id": "54158c3f-6381-451f-a174-d329a73ad22b",
    "tags": []
   },
   "outputs": [],
   "source": [
    "def generate_summary_stats(df):\n",
    "    summary = df.describe()\n",
    "    return f\"\"\"\n",
    "    Data Summary:\n",
    "    - Number of samples: {summary.loc['count', 'sepal_length']}\n",
    "    - Average sepal length: {summary.loc['mean', 'sepal_length']:.2f} cm\n",
    "    - Average petal length: {summary.loc['mean', 'petal_length']:.2f} cm\n",
    "    - Min sepal length: {summary.loc['min', 'sepal_length']:.2f} cm\n",
    "    - Max sepal length: {summary.loc['max', 'sepal_length']:.2f} cm\n",
    "    - Min petal length: {summary.loc['min', 'petal_length']:.2f} cm\n",
    "    - Max petal length: {summary.loc['max', 'petal_length']:.2f} cm\n",
    "    \"\"\"\n",
    "\n",
    "# Assuming df is your DataFrame, e.g., the Iris dataset\n",
    "# If you haven't loaded it yet, you can use:\n",
    "# url = 'https://raw.githubusercontent.com/mwaskom/seaborn-data/master/iris.csv'\n",
    "# df = pd.read_csv(url)\n",
    "\n",
    "# Generate the summary\n",
    "summary_text = generate_summary_stats(df)\n",
    "\n",
    "# Display the summary in the notebook or console\n",
    "print(summary_text)\n",
    "\n",
    "# Optionally, save the summary to a text file\n",
    "with open('dataset_summary.txt', 'w') as f:\n",
    "    f.write(summary_text)\n",
    "\n",
    "print(\"Summary has been saved to 'dataset_summary.txt'\")\n",
    "\n",
    "# You can also add the summary to your DataFrame as a new column\n",
    "df['summary'] = summary_text\n",
    "\n",
    "# Display the first few rows of the updated DataFrame\n",
    "print(df.head())"
   ]
  },
  {
   "cell_type": "markdown",
   "id": "13f77c61-568c-4afb-9e01-4807dce24f63",
   "metadata": {
    "id": "13f77c61-568c-4afb-9e01-4807dce24f63"
   },
   "source": [
    "#### Combining Text and Visuals\n",
    "\n",
    "Use a library like fpdf or reportlab to create a PDF report. Here's an example using fpdf:"
   ]
  },
  {
   "cell_type": "code",
   "execution_count": null,
   "id": "e1ba091e-3b69-4d22-bf02-fbc31038d91a",
   "metadata": {
    "id": "e1ba091e-3b69-4d22-bf02-fbc31038d91a",
    "tags": []
   },
   "outputs": [],
   "source": [
    "!pip install fpdf\n",
    "from fpdf import FPDF\n",
    "\n",
    "def create_report(title, summary, plot_filename):\n",
    "    pdf = FPDF()\n",
    "    pdf.add_page()\n",
    "\n",
    "    # Add title\n",
    "    pdf.set_font(\"Arial\", \"B\", 16)\n",
    "    pdf.cell(0, 10, title, ln=True, align='C')\n",
    "\n",
    "    # Add summary\n",
    "    pdf.set_font(\"Arial\", \"\", 12)\n",
    "    pdf.multi_cell(0, 10, summary)\n",
    "\n",
    "    # Add plot\n",
    "    pdf.image(plot_filename, x=10, y=pdf.get_y()+10, w=190)\n",
    "\n",
    "    pdf.output(\"report.pdf\")\n",
    "\n",
    "create_report(\"Iris Dataset Analysis\", summary_text, \"sepal_vs_petal.png\")"
   ]
  },
  {
   "cell_type": "markdown",
   "id": "73f9d275-0c47-42eb-8ce0-6eaf8e82c3f9",
   "metadata": {
    "id": "73f9d275-0c47-42eb-8ce0-6eaf8e82c3f9"
   },
   "source": [
    "Reminder: Your generated files (report.pdf and sepal_vs_petal.png) are saved in: {current_directory}\""
   ]
  },
  {
   "cell_type": "code",
   "execution_count": null,
   "id": "724d34c2-e197-490f-91d2-036506eb17a9",
   "metadata": {
    "id": "724d34c2-e197-490f-91d2-036506eb17a9",
    "scrolled": true
   },
   "outputs": [],
   "source": [
    "# Create a new figure and axis\n",
    "fig, ax = plt.subplots(figsize=(10, 6))\n",
    "\n",
    "# Create the scatter plot\n",
    "sns.scatterplot(x='sepal_length', y='petal_length', hue='species', data=df, s=100, ax=ax)\n",
    "\n",
    "# Customize the plot\n",
    "ax.set_title('Sepal Length vs Petal Length by Species', fontsize=16)\n",
    "ax.set_xlabel('Sepal Length (cm)', fontsize=12)\n",
    "ax.set_ylabel('Petal Length (cm)', fontsize=12)\n",
    "ax.legend(title='Species')\n",
    "\n",
    "# Save the plot\n",
    "plt.savefig('iris_plot.png')\n",
    "\n",
    "# Display the plot (optional, but useful to verify what's being saved)\n",
    "plt.show()\n",
    "\n",
    "print(\"Plot has been saved as 'iris_plot.png'\")"
   ]
  },
  {
   "cell_type": "markdown",
   "id": "c0abf50b-e4a2-479d-95cb-0d0aa5ae952b",
   "metadata": {
    "id": "c0abf50b-e4a2-479d-95cb-0d0aa5ae952b"
   },
   "source": [
    "Pro Tip: Take a look at using libraries like PDFKit or ReportLab for more polished reports."
   ]
  },
  {
   "cell_type": "markdown",
   "id": "4d8d3e3c-0851-4a51-8256-55c5f2b30a7d",
   "metadata": {
    "id": "4d8d3e3c-0851-4a51-8256-55c5f2b30a7d"
   },
   "source": [
    "---\n",
    "\n",
    "## **9\\. Conclusion**\n",
    "\n",
    "Congratulations\\! You've built a versatile data analysis and visualization tool.\n",
    "\n",
    "### **Key Takeaways**\n",
    "\n",
    "* **Data Loading and Cleaning**: Import data from various sources and prepare it for analysis.  \n",
    "* **Exploratory Data Analysis**: Use statistical methods and visualizations to understand data.  \n",
    "* **Visualization Techniques**: Create informative plots to communicate findings effectively.  \n",
    "* **Problem-Solving Skills**: Overcome common challenges using tools like LLMs.  \n",
    "* **Customization**: Adapt the tool to different datasets and requirements.\n",
    "\n",
    "### **Next Steps**\n",
    "\n",
    "* **Apply to Real-World Data**: Use this tool to analyze data relevant to your field or interests.  \n",
    "* **Learn Advanced Techniques**: Explore machine learning models, time series analysis, or interactive dashboards.  \n",
    "* **Share Your Work**: Publish your project on the community platform, or write a post on social media or blog to share insights.\n",
    "\n",
    "---\n",
    "\n",
    "## **💌 Feedback**\n",
    "\n",
    "This is a pilot project, and we'd love your feedback! Please take our survey and let us know what you thought, and if you'd like more!\n",
    "\n",
    "[Take survey!](https://docs.google.com/forms/d/e/1FAIpQLSc1jiWgLT6V99eO5wIwuXLtZ5ULVwo9mVMNEhwKregl7i37gA/viewform)\n",
    "\n",
    "---\n",
    "\n",
    "## **Additional Resources**\n",
    "\n",
    "* **pandas Documentation**: pandas.pydata.org  \n",
    "* **matplotlib Documentation**: matplotlib.org  \n",
    "* **seaborn Documentation**: seaborn.pydata.org  \n",
    "* **Plotly for Interactive Visualizations**: plotly.com/python  \n",
    "* **Kaggle Datasets**: Kaggle  \n",
    "* **UCI Machine Learning Repository**: [UCI Datasets](https://archive.ics.uci.edu/ml/index.php)\n",
    "\n",
    "---"
   ]
  },
  {
   "cell_type": "markdown",
   "id": "b9479c0f-d5f6-4a37-b65f-fe72212a012f",
   "metadata": {
    "id": "b9479c0f-d5f6-4a37-b65f-fe72212a012f"
   },
   "source": [
    "## **Tips and Best Practices**\n",
    "\n",
    "* **Document Your Code**: Use comments and markdown cells to explain your code and findings.  \n",
    "* **Version Control**: Use Git to track changes and collaborate with others.  \n",
    "* **Backup Your Data**: Always keep a copy of your raw data before making changes.  \n",
    "* **Stay Curious**: Explore different datasets and experiment with new libraries and techniques.\n",
    "\n",
    "---\n",
    "\n",
    "**By incorporating these enhancements and utilizing tools like LLMs, you're not only building a tool but also developing problem-solving skills that are essential in the data science field.**\n",
    "\n",
    "**Keep learning!**"
   ]
  },
  {
   "cell_type": "code",
   "execution_count": null,
   "id": "aa1a8929",
   "metadata": {
    "id": "aa1a8929"
   },
   "outputs": [],
   "source": []
  }
 ],
 "metadata": {
  "colab": {
   "provenance": []
  },
  "kernelspec": {
   "display_name": "Python 3 (ipykernel)",
   "language": "python",
   "name": "python3"
  },
  "language_info": {
   "codemirror_mode": {
    "name": "ipython",
    "version": 3
   },
   "file_extension": ".py",
   "mimetype": "text/x-python",
   "name": "python",
   "nbconvert_exporter": "python",
   "pygments_lexer": "ipython3",
   "version": "3.12.4"
  }
 },
 "nbformat": 4,
 "nbformat_minor": 5
}
